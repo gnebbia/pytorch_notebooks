{
 "cells": [
  {
   "cell_type": "markdown",
   "metadata": {},
   "source": [
    "# Pytorch Step by Step: Linear Regression"
   ]
  },
  {
   "cell_type": "code",
   "execution_count": 11,
   "metadata": {},
   "outputs": [],
   "source": [
    "import numpy as np\n",
    "import pandas as pd\n",
    "import matplotlib.pyplot as plt\n",
    "import torch\n",
    "import torch.nn as nn\n",
    "from torch.autograd import Variable"
   ]
  },
  {
   "cell_type": "markdown",
   "metadata": {},
   "source": [
    "## Building a toy Linear Regression Model"
   ]
  },
  {
   "cell_type": "code",
   "execution_count": 2,
   "metadata": {},
   "outputs": [
    {
     "data": {
      "text/plain": [
       "(11, 1)"
      ]
     },
     "execution_count": 2,
     "metadata": {},
     "output_type": "execute_result"
    }
   ],
   "source": [
    "# let's build a toy dataset\n",
    "x_values = list(range(11))\n",
    "\n",
    "# we always want 2D datasets so we perform a reshape\n",
    "x_train = np.array(x_values, dtype=np.float32).reshape(-1,1)\n",
    "x_train.shape\n",
    "\n",
    "\n",
    "# here we will implement a y=2x + 1 model\n",
    "\n",
    "y_values = [2*i +1 for i in x_values]\n",
    "y_train = np.array(y_values, dtype=np.float32).reshape(-1,1)\n",
    "y_train.shape"
   ]
  },
  {
   "cell_type": "markdown",
   "metadata": {},
   "source": [
    "### Building a Model"
   ]
  },
  {
   "cell_type": "code",
   "execution_count": 3,
   "metadata": {},
   "outputs": [],
   "source": [
    "class LinearRegressionModel(nn.Module):\n",
    "    def __init__(self, input_size, output_size):\n",
    "        super(LinearRegressionModel, self).__init__()\n",
    "        self.linear = nn.Linear(input_dim, output_dim)\n",
    "    \n",
    "    def forward(self,x):\n",
    "        out = self.linear(x)\n",
    "        return out"
   ]
  },
  {
   "cell_type": "code",
   "execution_count": 4,
   "metadata": {},
   "outputs": [],
   "source": [
    "input_dim  = 1\n",
    "output_dim = 1\n",
    "\n",
    "model = LinearRegressionModel(input_dim, output_dim)"
   ]
  },
  {
   "cell_type": "markdown",
   "metadata": {},
   "source": [
    "### Instantiate a Loss Class"
   ]
  },
  {
   "cell_type": "code",
   "execution_count": 5,
   "metadata": {},
   "outputs": [],
   "source": [
    "# We will use an MSE Loss for linear regression\n",
    "criterion  = nn.MSELoss()"
   ]
  },
  {
   "cell_type": "markdown",
   "metadata": {},
   "source": [
    "### Instantiate an Optimizer Class"
   ]
  },
  {
   "cell_type": "code",
   "execution_count": 6,
   "metadata": {},
   "outputs": [],
   "source": [
    "learning_rate = 0.01\n",
    "optimizer = torch.optim.SGD(model.parameters(), lr=learning_rate)"
   ]
  },
  {
   "cell_type": "markdown",
   "metadata": {},
   "source": [
    "### Train a Model"
   ]
  },
  {
   "cell_type": "code",
   "execution_count": 7,
   "metadata": {},
   "outputs": [
    {
     "name": "stdout",
     "output_type": "stream",
     "text": [
      "epoch 1 loss 98.630126953125\n",
      "epoch 2 loss 8.096068382263184\n",
      "epoch 3 loss 0.7109226584434509\n",
      "epoch 4 loss 0.10797436535358429\n",
      "epoch 5 loss 0.05823582038283348\n",
      "epoch 6 loss 0.053626954555511475\n",
      "epoch 7 loss 0.05270521715283394\n",
      "epoch 8 loss 0.05209026113152504\n",
      "epoch 9 loss 0.0515064001083374\n",
      "epoch 10 loss 0.050931014120578766\n",
      "epoch 11 loss 0.05036238580942154\n",
      "epoch 12 loss 0.049799855798482895\n",
      "epoch 13 loss 0.04924386367201805\n",
      "epoch 14 loss 0.04869403690099716\n",
      "epoch 15 loss 0.04815009608864784\n",
      "epoch 16 loss 0.04761243239045143\n",
      "epoch 17 loss 0.047080863267183304\n",
      "epoch 18 loss 0.046555113047361374\n",
      "epoch 19 loss 0.046035196632146835\n",
      "epoch 20 loss 0.045521080493927\n",
      "epoch 21 loss 0.04501284658908844\n",
      "epoch 22 loss 0.04451017081737518\n",
      "epoch 23 loss 0.04401317611336708\n",
      "epoch 24 loss 0.0435217060148716\n",
      "epoch 25 loss 0.04303562268614769\n",
      "epoch 26 loss 0.04255496338009834\n",
      "epoch 27 loss 0.042079780250787735\n",
      "epoch 28 loss 0.04161004722118378\n",
      "epoch 29 loss 0.04114529490470886\n",
      "epoch 30 loss 0.04068582504987717\n",
      "epoch 31 loss 0.04023149609565735\n",
      "epoch 32 loss 0.03978223726153374\n",
      "epoch 33 loss 0.039337918162345886\n",
      "epoch 34 loss 0.03889863193035126\n",
      "epoch 35 loss 0.03846433386206627\n",
      "epoch 36 loss 0.038034792989492416\n",
      "epoch 37 loss 0.037609998136758804\n",
      "epoch 38 loss 0.03719008341431618\n",
      "epoch 39 loss 0.03677477315068245\n",
      "epoch 40 loss 0.03636414557695389\n",
      "epoch 41 loss 0.035958170890808105\n",
      "epoch 42 loss 0.03555658459663391\n",
      "epoch 43 loss 0.03515947237610817\n",
      "epoch 44 loss 0.03476687893271446\n",
      "epoch 45 loss 0.03437865898013115\n",
      "epoch 46 loss 0.03399470075964928\n",
      "epoch 47 loss 0.033615127205848694\n",
      "epoch 48 loss 0.03323980048298836\n",
      "epoch 49 loss 0.032868582755327225\n",
      "epoch 50 loss 0.0325014665722847\n",
      "epoch 51 loss 0.03213851526379585\n",
      "epoch 52 loss 0.031779732555150986\n",
      "epoch 53 loss 0.0314248763024807\n",
      "epoch 54 loss 0.031073886901140213\n",
      "epoch 55 loss 0.030726848170161247\n",
      "epoch 56 loss 0.03038380667567253\n",
      "epoch 57 loss 0.030044494196772575\n",
      "epoch 58 loss 0.029708992689847946\n",
      "epoch 59 loss 0.02937726490199566\n",
      "epoch 60 loss 0.029049258679151535\n",
      "epoch 61 loss 0.02872486598789692\n",
      "epoch 62 loss 0.02840401977300644\n",
      "epoch 63 loss 0.02808685414493084\n",
      "epoch 64 loss 0.02777319960296154\n",
      "epoch 65 loss 0.02746305614709854\n",
      "epoch 66 loss 0.027156339958310127\n",
      "epoch 67 loss 0.026853131130337715\n",
      "epoch 68 loss 0.026553303003311157\n",
      "epoch 69 loss 0.02625676989555359\n",
      "epoch 70 loss 0.02596358209848404\n",
      "epoch 71 loss 0.025673704221844673\n",
      "epoch 72 loss 0.025386961176991463\n",
      "epoch 73 loss 0.025103481486439705\n",
      "epoch 74 loss 0.024823186919093132\n",
      "epoch 75 loss 0.024545924738049507\n",
      "epoch 76 loss 0.02427184022963047\n",
      "epoch 77 loss 0.02400081790983677\n",
      "epoch 78 loss 0.023732757195830345\n",
      "epoch 79 loss 0.023467743769288063\n",
      "epoch 80 loss 0.02320575900375843\n",
      "epoch 81 loss 0.022946542128920555\n",
      "epoch 82 loss 0.022690363228321075\n",
      "epoch 83 loss 0.022436944767832756\n",
      "epoch 84 loss 0.022186432033777237\n",
      "epoch 85 loss 0.02193865366280079\n",
      "epoch 86 loss 0.021693674847483635\n",
      "epoch 87 loss 0.021451398730278015\n",
      "epoch 88 loss 0.02121182531118393\n",
      "epoch 89 loss 0.020975030958652496\n",
      "epoch 90 loss 0.020740723237395287\n",
      "epoch 91 loss 0.02050914615392685\n",
      "epoch 92 loss 0.020280200988054276\n",
      "epoch 93 loss 0.020053695887327194\n",
      "epoch 94 loss 0.01982968859374523\n",
      "epoch 95 loss 0.019608352333307266\n",
      "epoch 96 loss 0.019389357417821884\n",
      "epoch 97 loss 0.01917278952896595\n",
      "epoch 98 loss 0.018958769738674164\n",
      "epoch 99 loss 0.01874701678752899\n",
      "epoch 100 loss 0.018537677824497223\n"
     ]
    }
   ],
   "source": [
    "epochs = 100\n",
    "\n",
    "for epoch in range(epochs):\n",
    "    epoch += 1\n",
    "    inputs = Variable(torch.from_numpy(x_train))\n",
    "    labels = Variable(torch.from_numpy(y_train))\n",
    "    \n",
    "    # Clear gradients with respect to parameters\n",
    "    optimizer.zero_grad()\n",
    "    \n",
    "    # Forward Step to get output\n",
    "    outputs = model(inputs)\n",
    "    \n",
    "    # Calculate Loss\n",
    "    loss = criterion(outputs, labels)\n",
    "    \n",
    "    # Getting gradients w.r.t. parameters\n",
    "    loss.backward()\n",
    "    \n",
    "    # Update parameters\n",
    "    optimizer.step()\n",
    "    \n",
    "    print(\"epoch {} loss {}\".format(epoch, loss.data[0]))"
   ]
  },
  {
   "cell_type": "code",
   "execution_count": 8,
   "metadata": {},
   "outputs": [
    {
     "data": {
      "text/plain": [
       "array([[ 0.74672765],\n",
       "       [ 2.7832012 ],\n",
       "       [ 4.8196745 ],\n",
       "       [ 6.8561482 ],\n",
       "       [ 8.892622  ],\n",
       "       [10.929095  ],\n",
       "       [12.9655695 ],\n",
       "       [15.002043  ],\n",
       "       [17.038515  ],\n",
       "       [19.07499   ],\n",
       "       [21.111462  ]], dtype=float32)"
      ]
     },
     "execution_count": 8,
     "metadata": {},
     "output_type": "execute_result"
    }
   ],
   "source": [
    "predicted = model(Variable(torch.from_numpy(x_train))).data.numpy()\n",
    "predicted"
   ]
  },
  {
   "cell_type": "code",
   "execution_count": 9,
   "metadata": {},
   "outputs": [
    {
     "data": {
      "text/plain": [
       "array([[ 1.],\n",
       "       [ 3.],\n",
       "       [ 5.],\n",
       "       [ 7.],\n",
       "       [ 9.],\n",
       "       [11.],\n",
       "       [13.],\n",
       "       [15.],\n",
       "       [17.],\n",
       "       [19.],\n",
       "       [21.]], dtype=float32)"
      ]
     },
     "execution_count": 9,
     "metadata": {},
     "output_type": "execute_result"
    }
   ],
   "source": [
    "y_train"
   ]
  },
  {
   "cell_type": "markdown",
   "metadata": {},
   "source": [
    "### Plot results"
   ]
  },
  {
   "cell_type": "code",
   "execution_count": 12,
   "metadata": {},
   "outputs": [
    {
     "data": {
      "image/png": "[encoded data removed]",
      "text/plain": [
       "<matplotlib.figure.Figure at 0x7f1f6c12d6d8>"
      ]
     },
     "metadata": {},
     "output_type": "display_data"
    }
   ],
   "source": [
    "plt.clf()\n",
    "\n",
    "predicted = model(Variable(torch.from_numpy(x_train))).data.numpy()\n",
    "\n",
    "plt.plot(x_train, y_train, 'go', label=\"True Data\", alpha = 0.5)\n",
    "\n",
    "plt.plot(x_train, predicted, '--', label=\"Predictions\", alpha = 0.5)\n",
    "\n",
    "# Legend and plot\n",
    "plt.legend(loc=\"best\")\n",
    "plt.show()"
   ]
  },
  {
   "cell_type": "markdown",
   "metadata": {},
   "source": [
    "### Save a Model"
   ]
  },
  {
   "cell_type": "code",
   "execution_count": 13,
   "metadata": {},
   "outputs": [],
   "source": [
    "save_model = False\n",
    "\n",
    "if save_model is True:\n",
    "    torch.save(model.state_dict(), \"regression_model.pk1\")\n",
    "\n",
    "    "
   ]
  },
  {
   "cell_type": "markdown",
   "metadata": {},
   "source": [
    "### Load a Model"
   ]
  },
  {
   "cell_type": "code",
   "execution_count": 14,
   "metadata": {},
   "outputs": [],
   "source": [
    "load_model = False\n",
    "\n",
    "if load_model is True:\n",
    "    model.load_state_dict(torch.load(\"regression_model.pk1\"))"
   ]
  },
  {
   "cell_type": "markdown",
   "metadata": {},
   "source": [
    "### What about GPU?"
   ]
  },
  {
   "cell_type": "markdown",
   "metadata": {},
   "source": [
    "It's very easy, we just need to set two things:\n",
    "    - model\n",
    "    - Variables"
   ]
  },
  {
   "cell_type": "code",
   "execution_count": 16,
   "metadata": {},
   "outputs": [],
   "source": [
    "# we can just add after model = LinearRegressionModel(input_dim, output_dim)\n",
    "\n",
    "# now the model is on GPU\n",
    "if torch.cuda.is_available():\n",
    "    model.cuda()\n",
    "    \n",
    "# ...\n",
    "\n",
    "# to put the variables on GPU we do in the Training model loop\n",
    "if torch.cuda.is_available():\n",
    "    inputs = Variable(torch.from_numpy(x_train).cuda())\n",
    "    labels = Variable(torch.from_numpy(y_train).cuda())\n",
    "else:\n",
    "    inputs = Variable(torch.from_numpy(x_train))\n",
    "    labels = Variable(torch.from_numpy(y_train))\n",
    "    \n",
    "# now also our variables are in GPU"
   ]
  },
  {
   "cell_type": "markdown",
   "metadata": {},
   "source": [
    "## Recap"
   ]
  },
  {
   "cell_type": "markdown",
   "metadata": {},
   "source": [
    "In order to build  a regression model we do the following steps:\n",
    "    - Step 1: Create a Model Class\n",
    "    - Step 2: Instantiate the Model Class\n",
    "    - Step 3: Instantiate the Loss Class\n",
    "    - Step 4: Instantiate the Optimizer Class\n",
    "    - Step 5: Train the Model\n",
    "\n",
    "If we want to use the GPU what we do is to pass the following things to GPU:\n",
    "    - model (with model_name.cuda())\n",
    "    - Variables (with vairbale_name.cuda())"
   ]
  },
  {
   "cell_type": "code",
   "execution_count": null,
   "metadata": {},
   "outputs": [],
   "source": []
  }
 ],
 "metadata": {
  "kernelspec": {
   "display_name": "Python 3",
   "language": "python",
   "name": "python3"
  },
  "language_info": {
   "codemirror_mode": {
    "name": "ipython",
    "version": 3
   },
   "file_extension": ".py",
   "mimetype": "text/x-python",
   "name": "python",
   "nbconvert_exporter": "python",
   "pygments_lexer": "ipython3",
   "version": "3.6.2"
  }
 },
 "nbformat": 4,
 "nbformat_minor": 2
}
