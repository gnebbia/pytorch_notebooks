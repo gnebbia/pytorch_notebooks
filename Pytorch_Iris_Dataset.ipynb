{
 "cells": [
  {
   "cell_type": "code",
   "execution_count": 56,
   "metadata": {},
   "outputs": [],
   "source": [
    "import numpy as np\n",
    "import pandas as pd\n",
    "import matplotlib.pyplot as plt\n",
    "import torch\n",
    "import torch.nn as nn\n",
    "from torch.autograd import Variable\n",
    "import torchvision.transforms as transforms\n",
    "import torchvision.datasets as dsets"
   ]
  },
  {
   "cell_type": "code",
   "execution_count": 26,
   "metadata": {},
   "outputs": [],
   "source": [
    "dataset = pd.read_csv('data/iris.csv',header=None)\n",
    "\n",
    "dataset.loc[dataset[4]=='Iris-setosa', 4]=0\n",
    "dataset.loc[dataset[4]=='Iris-versicolor', 4]=1\n",
    "dataset.loc[dataset[4]=='Iris-virginica', 4]=2\n",
    "dataset = dataset.apply(pd.to_numeric)"
   ]
  },
  {
   "cell_type": "code",
   "execution_count": 27,
   "metadata": {},
   "outputs": [],
   "source": [
    "train=dataset.sample(frac=0.8,random_state=200)\n",
    "test=dataset.drop(train.index)"
   ]
  },
  {
   "cell_type": "code",
   "execution_count": 28,
   "metadata": {},
   "outputs": [],
   "source": [
    "train_array = train.as_matrix()\n",
    "xtrain = train_array[:,:4]\n",
    "ytrain = train_array[:,4]\n",
    "\n",
    "\n",
    "test_array = test.as_matrix()\n",
    "xtest = test_array[:,:4]\n",
    "ytest = test_array[:,4]\n"
   ]
  },
  {
   "cell_type": "code",
   "execution_count": 37,
   "metadata": {},
   "outputs": [],
   "source": [
    "hidden_layer_size = 20\n",
    "lr = 0.01\n",
    "num_epoch = 500"
   ]
  },
  {
   "cell_type": "code",
   "execution_count": 38,
   "metadata": {},
   "outputs": [],
   "source": [
    "class Net(nn.Module):\n",
    "\n",
    "    def __init__(self, input_size, hidden_size, num_classes):\n",
    "        super(Net, self).__init__()\n",
    "        self.fc1 = nn.Linear(input_size, hidden_size)\n",
    "        self.fc2 = nn.Linear(hidden_size, num_classes)\n",
    "\n",
    "    def forward(self, x):\n",
    "        x = F.relu(self.fc1(x))\n",
    "        x = self.fc2(x)\n",
    "        return x"
   ]
  },
  {
   "cell_type": "code",
   "execution_count": 122,
   "metadata": {},
   "outputs": [],
   "source": [
    "model = Net(4, hidden_layer_size, 3)"
   ]
  },
  {
   "cell_type": "code",
   "execution_count": 129,
   "metadata": {},
   "outputs": [],
   "source": [
    "criterion = nn.CrossEntropyLoss()\n",
    "optimizer = torch.optim.Adam(model.parameters(), lr=lr)\n",
    "\n"
   ]
  },
  {
   "cell_type": "code",
   "execution_count": 130,
   "metadata": {},
   "outputs": [
    {
     "name": "stdout",
     "output_type": "stream",
     "text": [
      "Epoch [1/500] Loss: 0.0820\n",
      "Accuracy of the network 96.66666666666667 %\n",
      "Epoch [51/500] Loss: 0.0820\n",
      "Accuracy of the network 96.66666666666667 %\n",
      "Epoch [101/500] Loss: 0.0820\n",
      "Accuracy of the network 96.66666666666667 %\n",
      "Epoch [151/500] Loss: 0.0820\n",
      "Accuracy of the network 96.66666666666667 %\n",
      "Epoch [201/500] Loss: 0.0820\n",
      "Accuracy of the network 96.66666666666667 %\n",
      "Epoch [251/500] Loss: 0.0820\n",
      "Accuracy of the network 96.66666666666667 %\n",
      "Epoch [301/500] Loss: 0.0820\n",
      "Accuracy of the network 96.66666666666667 %\n",
      "Epoch [351/500] Loss: 0.0820\n",
      "Accuracy of the network 96.66666666666667 %\n",
      "Epoch [401/500] Loss: 0.0820\n",
      "Accuracy of the network 96.66666666666667 %\n",
      "Epoch [451/500] Loss: 0.0820\n",
      "Accuracy of the network 96.66666666666667 %\n"
     ]
    }
   ],
   "source": [
    "for epoch in range(num_epoch):\n",
    "    X = Variable(torch.Tensor(xtrain).float())\n",
    "    Y = Variable(torch.Tensor(ytrain).long())\n",
    "    #feedforward - backprop\n",
    "    optimizer.zero_grad()\n",
    "    out = net(X)\n",
    "    loss = criterion(out, Y)\n",
    "    loss.backward()\n",
    "    optimizer.step()\n",
    "    \n",
    "    if (epoch) % 50 == 0:\n",
    "        print ('Epoch [%d/%d] Loss: %.4f' %(epoch+1, num_epoch, loss.data[0]))\n",
    "        \n",
    "        X = Variable(torch.Tensor(xtest).float())\n",
    "        Y = torch.Tensor(ytest).long()\n",
    "        out = net(X)\n",
    "        _, predicted = torch.max(out.data, 1)\n",
    "\n",
    "        #get accuration\n",
    "        print('Accuracy of the network {} %'.format(100 * torch.sum(Y==predicted) / 30.0))\n"
   ]
  },
  {
   "cell_type": "markdown",
   "metadata": {},
   "source": [
    "## Another general way with Batch Size"
   ]
  },
  {
   "cell_type": "code",
   "execution_count": 131,
   "metadata": {},
   "outputs": [],
   "source": [
    "import numpy as np\n",
    "import pandas as pd\n",
    "import matplotlib.pyplot as plt\n",
    "import torch\n",
    "import torch.nn as nn\n",
    "from torch.autograd import Variable\n",
    "import torchvision.transforms as transforms\n",
    "import torchvision.datasets as dsets"
   ]
  },
  {
   "cell_type": "code",
   "execution_count": 132,
   "metadata": {},
   "outputs": [],
   "source": [
    "dataset = pd.read_csv('data/iris.csv',header=None)\n",
    "\n",
    "dataset.loc[dataset[4]=='Iris-setosa', 4]=0\n",
    "dataset.loc[dataset[4]=='Iris-versicolor', 4]=1\n",
    "dataset.loc[dataset[4]=='Iris-virginica', 4]=2\n",
    "dataset = dataset.apply(pd.to_numeric)"
   ]
  },
  {
   "cell_type": "code",
   "execution_count": 133,
   "metadata": {},
   "outputs": [],
   "source": [
    "batch_size = 5\n",
    "n_iters = 3000\n",
    "\n",
    "num_epochs = n_iters / (len(xtrain) / batch_size)\n",
    "num_epochs = int(num_epochs)"
   ]
  },
  {
   "cell_type": "code",
   "execution_count": 134,
   "metadata": {},
   "outputs": [
    {
     "data": {
      "text/plain": [
       "125"
      ]
     },
     "execution_count": 134,
     "metadata": {},
     "output_type": "execute_result"
    }
   ],
   "source": [
    "num_epochs"
   ]
  },
  {
   "cell_type": "code",
   "execution_count": 135,
   "metadata": {},
   "outputs": [],
   "source": [
    "train=dataset.sample(frac=0.8,random_state=200)\n",
    "test=dataset.drop(train.index)"
   ]
  },
  {
   "cell_type": "code",
   "execution_count": 136,
   "metadata": {},
   "outputs": [
    {
     "data": {
      "text/plain": [
       "array([1., 2., 0., 0., 1., 2., 1., 1., 1., 2., 2., 0., 0., 0., 2., 0., 1.,\n",
       "       0., 1., 2., 0., 1., 2., 0., 0., 0., 1., 2., 2., 1., 0., 1., 1., 0.,\n",
       "       1., 0., 0., 0., 2., 1., 1., 0., 0., 1., 2., 2., 2., 0., 2., 1., 2.,\n",
       "       1., 1., 1., 2., 0., 1., 1., 1., 2., 0., 0., 2., 0., 0., 2., 1., 0.,\n",
       "       0., 2., 0., 0., 2., 2., 1., 1., 2., 0., 0., 2., 1., 0., 2., 2., 0.,\n",
       "       0., 1., 2., 1., 2., 0., 1., 0., 2., 1., 2., 1., 2., 1., 2., 2., 1.,\n",
       "       1., 2., 1., 0., 2., 2., 1., 1., 0., 0., 2., 0., 1., 2., 1., 0., 0.,\n",
       "       0.])"
      ]
     },
     "execution_count": 136,
     "metadata": {},
     "output_type": "execute_result"
    }
   ],
   "source": [
    "train_array = train.as_matrix()\n",
    "xtrain = train_array[:,:4]\n",
    "ytrain = train_array[:,4]\n",
    "\n",
    "\n",
    "test_array = test.as_matrix()\n",
    "xtest = test_array[:,:4]\n",
    "ytest = test_array[:,4]\n",
    "\n",
    "ytrain"
   ]
  },
  {
   "cell_type": "markdown",
   "metadata": {},
   "source": [
    "## Ways to properly load a dataset"
   ]
  },
  {
   "cell_type": "markdown",
   "metadata": {},
   "source": [
    "### Method 1"
   ]
  },
  {
   "cell_type": "code",
   "execution_count": 137,
   "metadata": {},
   "outputs": [
    {
     "data": {
      "text/plain": [
       "\n",
       " 4.9000  3.0000  1.4000  0.2000\n",
       " 5.0000  3.4000  1.5000  0.2000\n",
       " 5.8000  4.0000  1.2000  0.2000\n",
       " 5.4000  3.9000  1.3000  0.4000\n",
       " 5.1000  3.3000  1.7000  0.5000\n",
       " 5.0000  3.4000  1.6000  0.4000\n",
       " 5.0000  3.2000  1.2000  0.2000\n",
       " 4.4000  3.2000  1.3000  0.2000\n",
       " 6.4000  3.2000  4.5000  1.5000\n",
       " 6.5000  2.8000  4.6000  1.5000\n",
       " 6.3000  3.3000  4.7000  1.6000\n",
       " 6.2000  2.2000  4.5000  1.5000\n",
       " 5.9000  3.2000  4.8000  1.8000\n",
       " 6.8000  2.8000  4.8000  1.4000\n",
       " 6.7000  3.0000  5.0000  1.7000\n",
       " 5.7000  2.6000  3.5000  1.0000\n",
       " 6.0000  3.4000  4.5000  1.6000\n",
       " 5.5000  2.5000  4.0000  1.3000\n",
       " 7.6000  3.0000  6.6000  2.1000\n",
       " 4.9000  2.5000  4.5000  1.7000\n",
       " 6.4000  3.2000  5.3000  2.3000\n",
       " 6.5000  3.0000  5.5000  1.8000\n",
       " 6.9000  3.2000  5.7000  2.3000\n",
       " 7.2000  3.0000  5.8000  1.6000\n",
       " 6.1000  2.6000  5.6000  1.4000\n",
       " 6.0000  3.0000  4.8000  1.8000\n",
       " 6.9000  3.1000  5.4000  2.1000\n",
       " 5.8000  2.7000  5.1000  1.9000\n",
       " 6.7000  3.0000  5.2000  2.3000\n",
       " 6.5000  3.0000  5.2000  2.0000\n",
       "[torch.FloatTensor of size 30x4]"
      ]
     },
     "execution_count": 137,
     "metadata": {},
     "output_type": "execute_result"
    }
   ],
   "source": [
    "train = torch.utils.data.TensorDataset(torch.Tensor(xtrain).float(), torch.Tensor(ytrain).long())\n",
    "train_loader = torch.utils.data.DataLoader(train, batch_size=batch_size, shuffle=True)\n",
    "\n",
    "test = torch.utils.data.TensorDataset(torch.Tensor(xtest).float(), torch.Tensor(ytest).long())\n",
    "test_loader = torch.utils.data.DataLoader(test, batch_size=batch_size, shuffle=False)\n",
    "\n",
    "train_loader.dataset.target_tensor # check the features\n",
    "train_loader.dataset.data_tensor # check the labels \n",
    "\n",
    "test_loader.dataset.target_tensor # check the features\n",
    "test_loader.dataset.data_tensor # check the labels "
   ]
  },
  {
   "cell_type": "markdown",
   "metadata": {},
   "source": [
    "### Method 2"
   ]
  },
  {
   "cell_type": "code",
   "execution_count": 138,
   "metadata": {},
   "outputs": [
    {
     "data": {
      "text/plain": [
       "\n",
       " 4.9000  3.0000  1.4000  0.2000\n",
       " 5.0000  3.4000  1.5000  0.2000\n",
       " 5.8000  4.0000  1.2000  0.2000\n",
       " 5.4000  3.9000  1.3000  0.4000\n",
       " 5.1000  3.3000  1.7000  0.5000\n",
       " 5.0000  3.4000  1.6000  0.4000\n",
       " 5.0000  3.2000  1.2000  0.2000\n",
       " 4.4000  3.2000  1.3000  0.2000\n",
       " 6.4000  3.2000  4.5000  1.5000\n",
       " 6.5000  2.8000  4.6000  1.5000\n",
       " 6.3000  3.3000  4.7000  1.6000\n",
       " 6.2000  2.2000  4.5000  1.5000\n",
       " 5.9000  3.2000  4.8000  1.8000\n",
       " 6.8000  2.8000  4.8000  1.4000\n",
       " 6.7000  3.0000  5.0000  1.7000\n",
       " 5.7000  2.6000  3.5000  1.0000\n",
       " 6.0000  3.4000  4.5000  1.6000\n",
       " 5.5000  2.5000  4.0000  1.3000\n",
       " 7.6000  3.0000  6.6000  2.1000\n",
       " 4.9000  2.5000  4.5000  1.7000\n",
       " 6.4000  3.2000  5.3000  2.3000\n",
       " 6.5000  3.0000  5.5000  1.8000\n",
       " 6.9000  3.2000  5.7000  2.3000\n",
       " 7.2000  3.0000  5.8000  1.6000\n",
       " 6.1000  2.6000  5.6000  1.4000\n",
       " 6.0000  3.0000  4.8000  1.8000\n",
       " 6.9000  3.1000  5.4000  2.1000\n",
       " 5.8000  2.7000  5.1000  1.9000\n",
       " 6.7000  3.0000  5.2000  2.3000\n",
       " 6.5000  3.0000  5.2000  2.0000\n",
       "[torch.FloatTensor of size 30x4]"
      ]
     },
     "execution_count": 138,
     "metadata": {},
     "output_type": "execute_result"
    }
   ],
   "source": [
    "train_loader = torch.utils.data.DataLoader(dataset=train, batch_size=batch_size, shuffle=True)\n",
    "test_loader = torch.utils.data.DataLoader(dataset=test, batch_size=batch_size, shuffle=False)\n",
    "\n",
    "\n",
    "train_loader.dataset.target_tensor # check the features\n",
    "train_loader.dataset.data_tensor # check the labels \n",
    "\n",
    "test_loader.dataset.target_tensor # check the features\n",
    "test_loader.dataset.data_tensor # check the labels "
   ]
  },
  {
   "cell_type": "markdown",
   "metadata": {},
   "source": [
    "### Train the Model"
   ]
  },
  {
   "cell_type": "code",
   "execution_count": 145,
   "metadata": {},
   "outputs": [
    {
     "name": "stdout",
     "output_type": "stream",
     "text": [
      "Iteration: 500. Loss: 0.04657904431223869. Accuracy: 93.33333333333333\n",
      "Iteration: 1000. Loss: 0.015638601034879684. Accuracy: 96.66666666666667\n",
      "Iteration: 1500. Loss: 0.0008260541362687945. Accuracy: 90.0\n",
      "Iteration: 2000. Loss: 0.03763975203037262. Accuracy: 100.0\n",
      "Iteration: 2500. Loss: 0.00570632191374898. Accuracy: 90.0\n",
      "Iteration: 3000. Loss: 0.012096197344362736. Accuracy: 93.33333333333333\n"
     ]
    }
   ],
   "source": [
    "iter = 0\n",
    "for epoch in range(num_epochs):\n",
    "    for i, (features, labels) in enumerate(train_loader):\n",
    "        features = Variable(features.view(-1, 4))\n",
    "        labels = Variable(labels)\n",
    "        \n",
    "        optimizer.zero_grad()\n",
    "        \n",
    "        outputs = model(features)\n",
    "        \n",
    "        loss = criterion(outputs, labels)\n",
    "        \n",
    "        loss.backward()\n",
    "        \n",
    "        optimizer.step()\n",
    "        \n",
    "        iter += 1\n",
    "        \n",
    "        # we want to check the accuracy with test dataset every 500 iterations\n",
    "        # we can change this number, it is just if it is too small we lose a lot of time\n",
    "        # checking accuracy while if it is big, we have less answers but takes less time for the algorithm\n",
    "        if iter % 500 == 0:\n",
    "            # calculate accuracy\n",
    "            correct = 0\n",
    "            total = 0\n",
    "            \n",
    "            # iterate through test dataset\n",
    "            for features, labels in test_loader:\n",
    "                features = Variable(features.view(-1, 4))\n",
    "                \n",
    "                outputs = model(features)\n",
    "                # get predictions from the maximum value\n",
    "                _, predicted = torch.max(outputs.data, 1)\n",
    "                \n",
    "                # total number of labels\n",
    "                total += labels.size(0)\n",
    "                \n",
    "                correct += (predicted == labels).sum()\n",
    "            \n",
    "            accuracy = 100 * correct / total\n",
    "            \n",
    "            print(\"Iteration: {}. Loss: {}. Accuracy: {}\".format(iter, loss.data[0], accuracy))"
   ]
  },
  {
   "cell_type": "code",
   "execution_count": null,
   "metadata": {},
   "outputs": [],
   "source": []
  },
  {
   "cell_type": "code",
   "execution_count": null,
   "metadata": {},
   "outputs": [],
   "source": []
  }
 ],
 "metadata": {
  "kernelspec": {
   "display_name": "Python 3",
   "language": "python",
   "name": "python3"
  },
  "language_info": {
   "codemirror_mode": {
    "name": "ipython",
    "version": 3
   },
   "file_extension": ".py",
   "mimetype": "text/x-python",
   "name": "python",
   "nbconvert_exporter": "python",
   "pygments_lexer": "ipython3",
   "version": "3.6.2"
  }
 },
 "nbformat": 4,
 "nbformat_minor": 2
}
